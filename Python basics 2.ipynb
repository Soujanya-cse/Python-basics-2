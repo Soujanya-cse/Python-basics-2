{
 "cells": [
  {
   "cell_type": "markdown",
   "id": "86977614",
   "metadata": {},
   "source": [
    "#infinite loop"
   ]
  },
  {
   "cell_type": "code",
   "execution_count": null,
   "id": "113c37e5",
   "metadata": {},
   "outputs": [],
   "source": [
    "var=1\n",
    "while var==1:\n",
    "    num=input(\"Enter a number :\")\n",
    "    print(\"You entered: \",num)\n",
    "print(\"Good bye!\")"
   ]
  },
  {
   "cell_type": "code",
   "execution_count": null,
   "id": "006e5423",
   "metadata": {},
   "outputs": [],
   "source": [
    "#break and continue"
   ]
  },
  {
   "cell_type": "code",
   "execution_count": 1,
   "id": "4e101f9a",
   "metadata": {},
   "outputs": [
    {
     "name": "stdout",
     "output_type": "stream",
     "text": [
      "Current letter: P\n",
      "Current letter: y\n",
      "Current letter: t\n"
     ]
    }
   ],
   "source": [
    "for letter in 'Python':\n",
    "    if letter=='h':\n",
    "        break\n",
    "    print('Current letter:',letter)"
   ]
  },
  {
   "cell_type": "code",
   "execution_count": 2,
   "id": "a57aba49",
   "metadata": {},
   "outputs": [
    {
     "name": "stdout",
     "output_type": "stream",
     "text": [
      "Current letter: P\n",
      "Current letter: y\n",
      "Current letter: t\n",
      "Current letter: o\n",
      "Current letter: n\n"
     ]
    }
   ],
   "source": [
    "for letter in 'Python':\n",
    "    if letter=='h':\n",
    "        continue\n",
    "    print('Current letter:',letter)"
   ]
  },
  {
   "cell_type": "code",
   "execution_count": 3,
   "id": "a6d77ede",
   "metadata": {},
   "outputs": [
    {
     "name": "stdout",
     "output_type": "stream",
     "text": [
      "Current letter : P\n",
      "Current letter : y\n",
      "Current letter : t\n",
      "This is pass block\n",
      "Current letter : h\n",
      "Current letter : o\n",
      "Current letter : n\n",
      "Good bye!\n"
     ]
    }
   ],
   "source": [
    "for letter in 'Python':\n",
    "    if letter=='h':\n",
    "        pass\n",
    "        print('This is pass block')\n",
    "    print('Current letter :',letter)\n",
    "print(\"Good bye!\")"
   ]
  },
  {
   "cell_type": "code",
   "execution_count": 4,
   "id": "35802043",
   "metadata": {},
   "outputs": [],
   "source": [
    "#importing modules"
   ]
  },
  {
   "cell_type": "code",
   "execution_count": 5,
   "id": "e8ea7366",
   "metadata": {},
   "outputs": [
    {
     "name": "stdout",
     "output_type": "stream",
     "text": [
      "2 power 3 8.0\n"
     ]
    }
   ],
   "source": [
    "import math\n",
    "print(\"2 power 3\",math.pow(2,3))"
   ]
  },
  {
   "cell_type": "code",
   "execution_count": 6,
   "id": "775258aa",
   "metadata": {},
   "outputs": [
    {
     "name": "stdout",
     "output_type": "stream",
     "text": [
      "Rounded up 3.2 4\n"
     ]
    }
   ],
   "source": [
    "print(\"Rounded up 3.2\",math.ceil(3.2))"
   ]
  },
  {
   "cell_type": "code",
   "execution_count": 7,
   "id": "bba16f80",
   "metadata": {},
   "outputs": [
    {
     "name": "stdout",
     "output_type": "stream",
     "text": [
      "Rounded Down 3.7 3\n"
     ]
    }
   ],
   "source": [
    "print(\"Rounded Down 3.7\",math.floor(3.7))"
   ]
  },
  {
   "cell_type": "code",
   "execution_count": 10,
   "id": "c8966e91",
   "metadata": {},
   "outputs": [
    {
     "name": "stdout",
     "output_type": "stream",
     "text": [
      "Square root of 16 4.0\n"
     ]
    }
   ],
   "source": [
    "print(\"Square root of 16\",math.sqrt(16))"
   ]
  },
  {
   "cell_type": "code",
   "execution_count": 11,
   "id": "c80be878",
   "metadata": {},
   "outputs": [
    {
     "name": "stdout",
     "output_type": "stream",
     "text": [
      "sin of 30 -0.9880316240928618\n"
     ]
    }
   ],
   "source": [
    "print(\"sin of 30\",math.sin(30))"
   ]
  },
  {
   "cell_type": "code",
   "execution_count": 14,
   "id": "621a2ff9",
   "metadata": {},
   "outputs": [
    {
     "name": "stdout",
     "output_type": "stream",
     "text": [
      "cosin of 45 0.5253219888177297\n"
     ]
    }
   ],
   "source": [
    "print(\"cosin of 45\",math.cos(45))"
   ]
  },
  {
   "cell_type": "code",
   "execution_count": 15,
   "id": "2e24e89c",
   "metadata": {},
   "outputs": [],
   "source": [
    "#importing random"
   ]
  },
  {
   "cell_type": "code",
   "execution_count": 16,
   "id": "0ba64e20",
   "metadata": {},
   "outputs": [],
   "source": [
    "#to print random numbers it is used"
   ]
  },
  {
   "cell_type": "code",
   "execution_count": 17,
   "id": "4ba03ca7",
   "metadata": {},
   "outputs": [
    {
     "name": "stdout",
     "output_type": "stream",
     "text": [
      "random number: 3\n"
     ]
    }
   ],
   "source": [
    "import random\n",
    "random_number=random.randint(1,10)\n",
    "print(\"random number:\",random_number)#for integers"
   ]
  },
  {
   "cell_type": "code",
   "execution_count": 18,
   "id": "a1fbabcd",
   "metadata": {},
   "outputs": [
    {
     "name": "stdout",
     "output_type": "stream",
     "text": [
      "random float: 0.04625566424423655\n"
     ]
    }
   ],
   "source": [
    "import random\n",
    "random_number=random.random()\n",
    "print(\"random float:\",random_number)#for floating point numbers"
   ]
  },
  {
   "cell_type": "code",
   "execution_count": 19,
   "id": "0d07e951",
   "metadata": {},
   "outputs": [
    {
     "name": "stdout",
     "output_type": "stream",
     "text": [
      "786710"
     ]
    }
   ],
   "source": [
    "import random\n",
    "for i in range(5):\n",
    "    print(random.randint(1,10),end='')#it will print different random numbers every time"
   ]
  },
  {
   "cell_type": "code",
   "execution_count": 20,
   "id": "8cede876",
   "metadata": {},
   "outputs": [],
   "source": [
    "#Ending a Program Early with sys.exit()"
   ]
  },
  {
   "cell_type": "code",
   "execution_count": 22,
   "id": "70de6cbc",
   "metadata": {},
   "outputs": [
    {
     "name": "stdout",
     "output_type": "stream",
     "text": [
      "Type exit to exit.\n",
      "one\n",
      "You typed one.\n",
      "Type exit to exit.\n",
      "exit\n"
     ]
    },
    {
     "ename": "SystemExit",
     "evalue": "",
     "output_type": "error",
     "traceback": [
      "An exception has occurred, use %tb to see the full traceback.\n",
      "\u001b[1;31mSystemExit\u001b[0m\n"
     ]
    },
    {
     "name": "stderr",
     "output_type": "stream",
     "text": [
      "C:\\Users\\sowja\\anaconda3\\lib\\site-packages\\IPython\\core\\interactiveshell.py:3465: UserWarning: To exit: use 'exit', 'quit', or Ctrl-D.\n",
      "  warn(\"To exit: use 'exit', 'quit', or Ctrl-D.\", stacklevel=1)\n"
     ]
    }
   ],
   "source": [
    "import sys\n",
    "while True:\n",
    "    print('Type exit to exit.')\n",
    "    response=input()\n",
    "    if response=='exit':\n",
    "        sys.exit()\n",
    "    print('You typed '+response+'.')"
   ]
  },
  {
   "cell_type": "markdown",
   "id": "8bfb6681",
   "metadata": {},
   "source": [
    "#Functions"
   ]
  },
  {
   "cell_type": "code",
   "execution_count": 23,
   "id": "eb9a045f",
   "metadata": {},
   "outputs": [
    {
     "data": {
      "text/plain": [
       "1000"
      ]
     },
     "execution_count": 23,
     "metadata": {},
     "output_type": "execute_result"
    }
   ],
   "source": [
    "def cube(n):\n",
    "    ncube=n**3\n",
    "    return ncube\n",
    "cube(10)#if I give whatever value for n it will be executed"
   ]
  },
  {
   "cell_type": "code",
   "execution_count": 24,
   "id": "5ba93786",
   "metadata": {},
   "outputs": [],
   "source": [
    "#function without parameters"
   ]
  },
  {
   "cell_type": "code",
   "execution_count": 25,
   "id": "caf8f629",
   "metadata": {},
   "outputs": [
    {
     "name": "stdout",
     "output_type": "stream",
     "text": [
      "Rocky Robin\n",
      "Lucknow\n",
      "India\n"
     ]
    }
   ],
   "source": [
    "def display():\n",
    "    print(\"Rocky Robin\")\n",
    "    print(\"Lucknow\")\n",
    "    print(\"India\")\n",
    "#Function call\n",
    "display()"
   ]
  },
  {
   "cell_type": "code",
   "execution_count": 26,
   "id": "a8dbc7ea",
   "metadata": {},
   "outputs": [],
   "source": [
    "#function with parameters but without returning values"
   ]
  },
  {
   "cell_type": "code",
   "execution_count": 30,
   "id": "7269d14b",
   "metadata": {},
   "outputs": [
    {
     "name": "stdout",
     "output_type": "stream",
     "text": [
      "Enter the value of principal amount in rupees: 1000\n",
      "Enter the value of time period in years:2.5\n",
      "Enter the value of rate of interest in percentage:1.5\n",
      "simple interest: 37.5\n"
     ]
    }
   ],
   "source": [
    "def Simple_Interest(p,t,r):\n",
    "    si=p*t*r/100\n",
    "    print(\"simple interest:\",si)\n",
    "p=float(input(\"Enter the value of principal amount in rupees: \"))\n",
    "t=float(input(\"Enter the value of time period in years:\"))\n",
    "r=float(input(\"Enter the value of rate of interest in percentage:\"))\n",
    "Simple_Interest(p,t,r)"
   ]
  },
  {
   "cell_type": "code",
   "execution_count": 31,
   "id": "af4852fe",
   "metadata": {},
   "outputs": [],
   "source": [
    "#function which return multiple values"
   ]
  },
  {
   "cell_type": "code",
   "execution_count": 32,
   "id": "08eb29ed",
   "metadata": {},
   "outputs": [
    {
     "name": "stdout",
     "output_type": "stream",
     "text": [
      "Enter the number: 5\n",
      "np2:  25\n",
      "np3:  125\n",
      "np4:  625\n",
      "np5:  3125\n"
     ]
    }
   ],
   "source": [
    "def multireturn(n):\n",
    "    return n**2,n**3,n**4,n**5\n",
    "n=int(input(\"Enter the number: \"))\n",
    "np2,np3,np4,np5=multireturn(n)\n",
    "print(\"np2: \",np2)\n",
    "print(\"np3: \",np3)\n",
    "print(\"np4: \",np4)\n",
    "print(\"np5: \",np5)"
   ]
  },
  {
   "cell_type": "code",
   "execution_count": 33,
   "id": "a7bf1099",
   "metadata": {},
   "outputs": [],
   "source": [
    "#The none value"
   ]
  },
  {
   "cell_type": "code",
   "execution_count": 34,
   "id": "6196465c",
   "metadata": {},
   "outputs": [
    {
     "name": "stdout",
     "output_type": "stream",
     "text": [
      "1\n",
      "End\n",
      "None\n",
      "None\n"
     ]
    }
   ],
   "source": [
    "def f1():\n",
    "    print(1)\n",
    "x=f1()\n",
    "y=print(\"End\")\n",
    "print(x)\n",
    "print(y)"
   ]
  },
  {
   "cell_type": "code",
   "execution_count": 36,
   "id": "598f403c",
   "metadata": {},
   "outputs": [],
   "source": [
    "#keyword arguments and print()\n",
    "#there are two keyword arguments 1)end 2)sep"
   ]
  },
  {
   "cell_type": "code",
   "execution_count": 39,
   "id": "5de3f237",
   "metadata": {},
   "outputs": [
    {
     "name": "stdout",
     "output_type": "stream",
     "text": [
      "Hello World\n"
     ]
    }
   ],
   "source": [
    "print('Hello',end=' ')#if we without use end it will print in separate line\n",
    "print('World')"
   ]
  },
  {
   "cell_type": "code",
   "execution_count": 40,
   "id": "38435692",
   "metadata": {},
   "outputs": [
    {
     "name": "stdout",
     "output_type": "stream",
     "text": [
      "Hello##World\n"
     ]
    }
   ],
   "source": [
    "print('Hello',end='##')\n",
    "print('World')"
   ]
  },
  {
   "cell_type": "code",
   "execution_count": 41,
   "id": "7fcb5842",
   "metadata": {},
   "outputs": [],
   "source": [
    "#using sep"
   ]
  },
  {
   "cell_type": "code",
   "execution_count": 42,
   "id": "ea557e31",
   "metadata": {},
   "outputs": [
    {
     "name": "stdout",
     "output_type": "stream",
     "text": [
      "cats>dogs>mice\n"
     ]
    }
   ],
   "source": [
    "print('cats','dogs','mice',sep='>')"
   ]
  },
  {
   "cell_type": "code",
   "execution_count": 43,
   "id": "6186a9c8",
   "metadata": {},
   "outputs": [
    {
     "name": "stdout",
     "output_type": "stream",
     "text": [
      "cats dogs mice\n"
     ]
    }
   ],
   "source": [
    "print('cats','dogs','mice')#without using separater"
   ]
  },
  {
   "cell_type": "code",
   "execution_count": 44,
   "id": "50872610",
   "metadata": {},
   "outputs": [],
   "source": [
    "#local and gloabal scope"
   ]
  },
  {
   "cell_type": "code",
   "execution_count": 46,
   "id": "23d77c0a",
   "metadata": {},
   "outputs": [
    {
     "name": "stdout",
     "output_type": "stream",
     "text": [
      "Function f1 15 20\n",
      "Function f2 20 40\n",
      "20\n"
     ]
    }
   ],
   "source": [
    "x=20 #gloabal variable\n",
    "def f1():\n",
    "    x=15\n",
    "    l=20 #local variable\n",
    "    print(\"Function f1\",x,l)\n",
    "def f2():\n",
    "    y=x+20\n",
    "    print(\"Function f2\",x,y)\n",
    "f1()\n",
    "f2()\n",
    "print(x)"
   ]
  },
  {
   "cell_type": "code",
   "execution_count": 49,
   "id": "4965fd6a",
   "metadata": {},
   "outputs": [],
   "source": [
    "#local variable cannot be used in the global scope"
   ]
  },
  {
   "cell_type": "code",
   "execution_count": 50,
   "id": "52f14eed",
   "metadata": {},
   "outputs": [],
   "source": [
    "#Local scopes cannot use variable in other local scopes"
   ]
  },
  {
   "cell_type": "code",
   "execution_count": 51,
   "id": "3a2b1d21",
   "metadata": {},
   "outputs": [],
   "source": [
    "#global variable can be read from local scope"
   ]
  },
  {
   "cell_type": "code",
   "execution_count": 53,
   "id": "406becb6",
   "metadata": {},
   "outputs": [
    {
     "name": "stdout",
     "output_type": "stream",
     "text": [
      "I am local to fun2\n",
      "I am local to fun1\n",
      "I am local to fun2\n",
      "I am global\n"
     ]
    }
   ],
   "source": [
    "#local and global variable in same name \n",
    "def fun1():\n",
    "    x='I am local to fun1'\n",
    "    print(x)\n",
    "def fun2():\n",
    "    x='I am local to fun2'\n",
    "    print(x)\n",
    "    fun1()\n",
    "    print(x)\n",
    "x='I am global'\n",
    "fun2()\n",
    "print(x)"
   ]
  },
  {
   "cell_type": "code",
   "execution_count": 54,
   "id": "26efd56c",
   "metadata": {},
   "outputs": [
    {
     "name": "stdout",
     "output_type": "stream",
     "text": [
      "spam\n"
     ]
    }
   ],
   "source": [
    "#Global statement\n",
    "def fun1():\n",
    "    global x\n",
    "    x='spam'\n",
    "x=\"global\"\n",
    "fun1()\n",
    "print(x)"
   ]
  },
  {
   "cell_type": "code",
   "execution_count": null,
   "id": "6102095d",
   "metadata": {},
   "outputs": [],
   "source": []
  }
 ],
 "metadata": {
  "kernelspec": {
   "display_name": "Python 3 (ipykernel)",
   "language": "python",
   "name": "python3"
  },
  "language_info": {
   "codemirror_mode": {
    "name": "ipython",
    "version": 3
   },
   "file_extension": ".py",
   "mimetype": "text/x-python",
   "name": "python",
   "nbconvert_exporter": "python",
   "pygments_lexer": "ipython3",
   "version": "3.9.13"
  }
 },
 "nbformat": 4,
 "nbformat_minor": 5
}
